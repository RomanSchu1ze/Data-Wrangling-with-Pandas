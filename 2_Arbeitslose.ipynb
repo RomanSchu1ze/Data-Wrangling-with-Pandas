{
 "cells": [
  {
   "cell_type": "markdown",
   "metadata": {},
   "source": [
    "## Integration von Arbeitslosenzahlen auf Bundeslandebene"
   ]
  },
  {
   "cell_type": "code",
   "execution_count": 54,
   "metadata": {},
   "outputs": [],
   "source": [
    "# Autor: Roman Schulze\n",
    "# Datenquelle: Bundesagentur für Arbeit"
   ]
  },
  {
   "cell_type": "code",
   "execution_count": 55,
   "metadata": {},
   "outputs": [],
   "source": [
    "# Bibliotheken importieren\n",
    "import numpy as np\n",
    "import pandas as pd"
   ]
  },
  {
   "cell_type": "markdown",
   "metadata": {},
   "source": [
    "### 1. Funktionen zur Formattierung und Bereinigung der Daten"
   ]
  },
  {
   "cell_type": "code",
   "execution_count": 56,
   "metadata": {},
   "outputs": [],
   "source": [
    "# Formattierung der Daten\n",
    "def get_data_formatted(df):\n",
    "    df.loc[0, \"Unnamed: 1\"] = \" \"\n",
    "    df.drop(index=5, inplace=True)\n",
    "    df.reset_index(drop=True, inplace=True)\n",
    "    mask = df.loc[:, \"Unnamed: 0\"]  == \"© Statistik der Bundesagentur für Arbeit\"\n",
    "    ind_pos = mask[mask==True].index[0] + 1\n",
    "    df = df.iloc[0:ind_pos, :]\n",
    "    df = df.rename(columns={\"Unnamed: 0\":\"Berufsbereich\",\"Unnamed: 1\":\"Berufe\", \n",
    "                            \"Unnamed: 2\":\"Anforderungsniveau\", \n",
    "                            1:\"Arbeitslose_Apr21\"})\n",
    "    df = df.iloc[:, :4]\n",
    "    df[\"Berufsgruppe\"] = df[\"Berufsbereich\"] + \" \" + df[\"Berufe\"]\n",
    "    cols = [\"Berufsgruppe\", \"Anforderungsniveau\", \"Arbeitslose_Apr21\"]\n",
    "    df = df[cols]\n",
    "    df.Berufsgruppe = df.Berufsgruppe.fillna(method='ffill')\n",
    "    df[\"Anforderungsniveau\"] = df[\"Anforderungsniveau\"].str.strip()\n",
    "    return df"
   ]
  },
  {
   "cell_type": "code",
   "execution_count": 57,
   "metadata": {},
   "outputs": [],
   "source": [
    "# Transformation der Daten mithilfe der Pivot-Tabelle\n",
    "def transform_data(df):\n",
    "    table = pd.pivot_table(df, values=\"Arbeitslose_Apr21\", index=[\"Berufsgruppe\"],\n",
    "                    columns=[\"Anforderungsniveau\"], aggfunc=np.sum)\n",
    "    flattened = pd.DataFrame(table.to_records())\n",
    "    return flattened"
   ]
  },
  {
   "cell_type": "code",
   "execution_count": 65,
   "metadata": {},
   "outputs": [],
   "source": [
    "# Sortierung der Spalten & Datentypassung\n",
    "def convert_data(df):\n",
    "    cols = [\"Bundesland\", \"Berufsgruppe\", \"Gesamt\", \"Helfer\", \"Fachkraft\", \"Spezialist\", \"Experte\"]\n",
    "    df = df[cols]\n",
    "    # Bereinigung der Daten\n",
    "    df.replace(\"* \", np.nan, inplace=True)\n",
    "    for col in df.columns:\n",
    "        if col not in [\"Bundesland\", \"Berufsgruppe\"]:\n",
    "            df[col] = df[col].astype(\"float64\")\n",
    "    df = df.sort_values(by=[\"Bundesland\", \"Berufsgruppe\"])\n",
    "    return df"
   ]
  },
  {
   "cell_type": "markdown",
   "metadata": {},
   "source": [
    "### 2. Laden und Zusammenführung der Daten"
   ]
  },
  {
   "cell_type": "code",
   "execution_count": 59,
   "metadata": {},
   "outputs": [],
   "source": [
    "# Auflistung der Bundesländer\n",
    "Bundesländer = [\"Schleswig-Holstein\", \"Hamburg\", \"Niedersachsen\", \"Bremen\", \"Nordrhein-Westfalen\", \"Hessen\", \n",
    "               \"Rheinland-Pfalz\", \"Baden-Württemberg\", \"Bayern\", \"Saarland\", \"Berlin\", \"Brandenburg\", \n",
    "               \"Mecklenburg-Vorpommern\", \"Sachsen\", \"Sachsen-Anhalt\", \"Thüringen\"]"
   ]
  },
  {
   "cell_type": "code",
   "execution_count": 60,
   "metadata": {},
   "outputs": [],
   "source": [
    "# Gehe durch jedes Excel Blatt und ziehe die relevanten Informationen\n",
    "list_of_dfs = []\n",
    "for idx, val in enumerate(Bundesländer):\n",
    "    df = pd.read_excel(\"Rohdaten_Bundesagentur_für_Arbeit_Bundesländer/Arbeitslose_Apr2021.xlsx\", sheet_name=\"1.\" + str(idx + 4), header = 14, nrows=1000)\n",
    "    df = get_data_formatted(df)\n",
    "    df = transform_data(df)\n",
    "    df[\"Bundesland\"] = val\n",
    "    list_of_dfs.append(df)"
   ]
  },
  {
   "cell_type": "code",
   "execution_count": 61,
   "metadata": {},
   "outputs": [],
   "source": [
    "# Zusammenführen aller individuellen Dataframes in einen ganzen\n",
    "df_all = pd.concat(list_of_dfs)"
   ]
  },
  {
   "cell_type": "code",
   "execution_count": 66,
   "metadata": {},
   "outputs": [],
   "source": [
    "# finale Anpassungen\n",
    "df_all = convert_data(df_all)"
   ]
  },
  {
   "cell_type": "code",
   "execution_count": 67,
   "metadata": {},
   "outputs": [
    {
     "data": {
      "text/html": [
       "<div>\n",
       "<style scoped>\n",
       "    .dataframe tbody tr th:only-of-type {\n",
       "        vertical-align: middle;\n",
       "    }\n",
       "\n",
       "    .dataframe tbody tr th {\n",
       "        vertical-align: top;\n",
       "    }\n",
       "\n",
       "    .dataframe thead th {\n",
       "        text-align: right;\n",
       "    }\n",
       "</style>\n",
       "<table border=\"1\" class=\"dataframe\">\n",
       "  <thead>\n",
       "    <tr style=\"text-align: right;\">\n",
       "      <th></th>\n",
       "      <th>Bundesland</th>\n",
       "      <th>Berufsgruppe</th>\n",
       "      <th>Gesamt</th>\n",
       "      <th>Helfer</th>\n",
       "      <th>Fachkraft</th>\n",
       "      <th>Spezialist</th>\n",
       "      <th>Experte</th>\n",
       "    </tr>\n",
       "  </thead>\n",
       "  <tbody>\n",
       "    <tr>\n",
       "      <th>0</th>\n",
       "      <td>Baden-Württemberg</td>\n",
       "      <td>01 Angehörige der regulären Streitkräfte</td>\n",
       "      <td>17.0</td>\n",
       "      <td>NaN</td>\n",
       "      <td>12.0</td>\n",
       "      <td>NaN</td>\n",
       "      <td>5.0</td>\n",
       "    </tr>\n",
       "    <tr>\n",
       "      <th>1</th>\n",
       "      <td>Baden-Württemberg</td>\n",
       "      <td>11 Land-, Tier-, Forstwirtschaftsberufe</td>\n",
       "      <td>1074.0</td>\n",
       "      <td>707.0</td>\n",
       "      <td>196.0</td>\n",
       "      <td>44.0</td>\n",
       "      <td>127.0</td>\n",
       "    </tr>\n",
       "    <tr>\n",
       "      <th>2</th>\n",
       "      <td>Baden-Württemberg</td>\n",
       "      <td>111 Landwirtschaft</td>\n",
       "      <td>514.0</td>\n",
       "      <td>393.0</td>\n",
       "      <td>26.0</td>\n",
       "      <td>18.0</td>\n",
       "      <td>77.0</td>\n",
       "    </tr>\n",
       "    <tr>\n",
       "      <th>3</th>\n",
       "      <td>Baden-Württemberg</td>\n",
       "      <td>112 Tierwirtschaft</td>\n",
       "      <td>34.0</td>\n",
       "      <td>28.0</td>\n",
       "      <td>5.0</td>\n",
       "      <td>NaN</td>\n",
       "      <td>NaN</td>\n",
       "    </tr>\n",
       "    <tr>\n",
       "      <th>4</th>\n",
       "      <td>Baden-Württemberg</td>\n",
       "      <td>113 Pferdewirtschaft</td>\n",
       "      <td>71.0</td>\n",
       "      <td>NaN</td>\n",
       "      <td>65.0</td>\n",
       "      <td>6.0</td>\n",
       "      <td>NaN</td>\n",
       "    </tr>\n",
       "  </tbody>\n",
       "</table>\n",
       "</div>"
      ],
      "text/plain": [
       "          Bundesland                              Berufsgruppe  Gesamt  \\\n",
       "0  Baden-Württemberg  01 Angehörige der regulären Streitkräfte    17.0   \n",
       "1  Baden-Württemberg   11 Land-, Tier-, Forstwirtschaftsberufe  1074.0   \n",
       "2  Baden-Württemberg                        111 Landwirtschaft   514.0   \n",
       "3  Baden-Württemberg                        112 Tierwirtschaft    34.0   \n",
       "4  Baden-Württemberg                      113 Pferdewirtschaft    71.0   \n",
       "\n",
       "   Helfer  Fachkraft  Spezialist  Experte  \n",
       "0     NaN       12.0         NaN      5.0  \n",
       "1   707.0      196.0        44.0    127.0  \n",
       "2   393.0       26.0        18.0     77.0  \n",
       "3    28.0        5.0         NaN      NaN  \n",
       "4     NaN       65.0         6.0      NaN  "
      ]
     },
     "execution_count": 67,
     "metadata": {},
     "output_type": "execute_result"
    }
   ],
   "source": [
    "# Erste fünf Zeilen\n",
    "df_all.head()"
   ]
  },
  {
   "cell_type": "markdown",
   "metadata": {},
   "source": [
    "###### Speicherung der Daten als Excel Datei"
   ]
  },
  {
   "cell_type": "code",
   "execution_count": 69,
   "metadata": {},
   "outputs": [],
   "source": [
    "# ALs Excel File speichern\n",
    "df_all.to_excel(\"Arbeitslose_nach_BL.xlsx\")  "
   ]
  },
  {
   "cell_type": "code",
   "execution_count": null,
   "metadata": {},
   "outputs": [],
   "source": [
    "# Anmerkung: Die Ausführung des Skripts nimmt einige Zeit in Anspruch."
   ]
  }
 ],
 "metadata": {
  "kernelspec": {
   "display_name": "Python 3",
   "language": "python",
   "name": "python3"
  },
  "language_info": {
   "codemirror_mode": {
    "name": "ipython",
    "version": 3
   },
   "file_extension": ".py",
   "mimetype": "text/x-python",
   "name": "python",
   "nbconvert_exporter": "python",
   "pygments_lexer": "ipython3",
   "version": "3.8.5"
  }
 },
 "nbformat": 4,
 "nbformat_minor": 4
}
