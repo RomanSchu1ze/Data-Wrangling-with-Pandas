{
 "cells": [
  {
   "cell_type": "markdown",
   "metadata": {},
   "source": [
    "## Integration von Beschäftigtenzahlen auf Bundeslandebene "
   ]
  },
  {
   "cell_type": "code",
   "execution_count": 14,
   "metadata": {},
   "outputs": [],
   "source": [
    "# Autor: Roman Schulze\n",
    "# Datenquelle: Bundesagentur für Arbeit"
   ]
  },
  {
   "cell_type": "code",
   "execution_count": 15,
   "metadata": {},
   "outputs": [],
   "source": [
    "# Bibliotheken importieren\n",
    "import numpy as np\n",
    "import pandas as pd"
   ]
  },
  {
   "cell_type": "markdown",
   "metadata": {},
   "source": [
    "### 1. Funktionen zur Formattierung und Bereinigung der Daten"
   ]
  },
  {
   "cell_type": "code",
   "execution_count": 16,
   "metadata": {},
   "outputs": [],
   "source": [
    "# Formattierung der Daten\n",
    "def get_data_formatted(df):\n",
    "    mask = df.loc[:, \"Unnamed: 0\"]  == \"Sonstige / Keine Angabe\"\n",
    "    ind_pos = mask[mask==True].index[0] + 1\n",
    "    df = df.iloc[0:ind_pos, :]\n",
    "    df = df.iloc[1:, :]\n",
    "    df.drop(index=2, inplace=True)\n",
    "    df.reset_index(drop=True, inplace=True)\n",
    "    df.rename(columns={\"Unnamed: 0\":\"Berufsgruppe\",\"Unnamed: 1\":\"Insgesamt\"}, inplace=True)\n",
    "    return df"
   ]
  },
  {
   "cell_type": "code",
   "execution_count": 17,
   "metadata": {},
   "outputs": [],
   "source": [
    "# Bereinigung der Daten\n",
    "def clean_data(df):\n",
    "    df.replace(\"*\", np.nan, inplace=True)\n",
    "    for col in df.columns:\n",
    "        if col not in [\"Berufsgruppe\"]:\n",
    "            df[col] = df[col].astype(\"float64\")\n",
    "    return df"
   ]
  },
  {
   "cell_type": "markdown",
   "metadata": {},
   "source": [
    "### 2. Laden und Zusammenführung der Daten - aGB"
   ]
  },
  {
   "cell_type": "code",
   "execution_count": 18,
   "metadata": {},
   "outputs": [],
   "source": [
    "# Auflistung der Bundesländer\n",
    "Bundesländer = [\"Baden-Württemberg\", \"Bayern\", \"Berlin\", \"Brandenburg\", \"Bremen\", \"Hamburg\", \"Hessen\", \"Mecklenburg-Vorpommern\",\n",
    "               \"Niedersachsen\", \"Nordrhein-Westfalen\", \"Rheinland-Pfalz\", \"Saarland\", \"Sachsen-Anhalt\", \"Sachsen\", \n",
    "               \"Schleswig-Holstein\", \"Thüringen\"]"
   ]
  },
  {
   "cell_type": "code",
   "execution_count": 19,
   "metadata": {},
   "outputs": [],
   "source": [
    "# Lade Daten für jedes Bundesland \n",
    "list_of_dataframes = []\n",
    "for Bundesland in Bundesländer:\n",
    "    df = pd.read_excel(\"Rohdaten_Bundesagentur_für_Arbeit_Bundesländer/\" + Bundesland + \".xlsx\", sheet_name=\"aGB - Tabelle II\", header = 9, nrows=300)    \n",
    "    df = get_data_formatted(df)\n",
    "    df = clean_data(df)\n",
    "    df[\"Bundesland\"] = Bundesland\n",
    "    list_of_dataframes.append(df) "
   ]
  },
  {
   "cell_type": "code",
   "execution_count": 20,
   "metadata": {},
   "outputs": [],
   "source": [
    "# Zusammenführen aller individuellen Dataframes in einen ganzen\n",
    "df_all = pd.concat(list_of_dataframes)"
   ]
  },
  {
   "cell_type": "code",
   "execution_count": 21,
   "metadata": {},
   "outputs": [
    {
     "name": "stdout",
     "output_type": "stream",
     "text": [
      "(178, 11)\n",
      "(178, 11)\n",
      "(178, 11)\n",
      "(178, 11)\n",
      "(178, 11)\n",
      "(178, 11)\n",
      "(178, 11)\n",
      "(178, 11)\n",
      "(178, 11)\n",
      "(178, 11)\n",
      "(178, 11)\n",
      "(178, 11)\n",
      "(178, 11)\n",
      "(178, 11)\n",
      "(178, 11)\n",
      "(178, 11)\n"
     ]
    }
   ],
   "source": [
    "# Überprüfung des Formats\n",
    "for element in list_of_dataframes:\n",
    "    print(element.shape)"
   ]
  },
  {
   "cell_type": "code",
   "execution_count": 22,
   "metadata": {},
   "outputs": [
    {
     "data": {
      "text/plain": [
       "True"
      ]
     },
     "execution_count": 22,
     "metadata": {},
     "output_type": "execute_result"
    }
   ],
   "source": [
    "# Überprüfung des Formats \n",
    "df_all.shape[0] == 178*16"
   ]
  },
  {
   "cell_type": "code",
   "execution_count": 23,
   "metadata": {},
   "outputs": [],
   "source": [
    "# Sortierung der Spalten\n",
    "cols = list(df_all.columns)\n",
    "cols = [cols[-1]] + cols[:-1]\n",
    "df_all = df_all[cols]"
   ]
  },
  {
   "cell_type": "code",
   "execution_count": 24,
   "metadata": {
    "scrolled": true
   },
   "outputs": [
    {
     "data": {
      "text/html": [
       "<div>\n",
       "<style scoped>\n",
       "    .dataframe tbody tr th:only-of-type {\n",
       "        vertical-align: middle;\n",
       "    }\n",
       "\n",
       "    .dataframe tbody tr th {\n",
       "        vertical-align: top;\n",
       "    }\n",
       "\n",
       "    .dataframe thead th {\n",
       "        text-align: right;\n",
       "    }\n",
       "</style>\n",
       "<table border=\"1\" class=\"dataframe\">\n",
       "  <thead>\n",
       "    <tr style=\"text-align: right;\">\n",
       "      <th></th>\n",
       "      <th>Bundesland</th>\n",
       "      <th>Berufsgruppe</th>\n",
       "      <th>Insgesamt</th>\n",
       "      <th>Helfer</th>\n",
       "      <th>Fachkraft</th>\n",
       "      <th>Spezialist</th>\n",
       "      <th>Experte</th>\n",
       "      <th>Ohne berufl. Ausbildungs- abschluss</th>\n",
       "      <th>mit anerkanntem Berufs- abschluss 1)</th>\n",
       "      <th>mit akademi-schem Berufs-abschluss 2)</th>\n",
       "      <th>Ausbildung unbekannt</th>\n",
       "    </tr>\n",
       "  </thead>\n",
       "  <tbody>\n",
       "    <tr>\n",
       "      <th>0</th>\n",
       "      <td>Baden-Württemberg</td>\n",
       "      <td>Insgesamt</td>\n",
       "      <td>648869.0</td>\n",
       "      <td>299575.0</td>\n",
       "      <td>268666.0</td>\n",
       "      <td>30364.0</td>\n",
       "      <td>28086.0</td>\n",
       "      <td>166039.0</td>\n",
       "      <td>276844.0</td>\n",
       "      <td>48826.0</td>\n",
       "      <td>157160.0</td>\n",
       "    </tr>\n",
       "    <tr>\n",
       "      <th>1</th>\n",
       "      <td>Baden-Württemberg</td>\n",
       "      <td>11 Land-, Tier-, Forstwirtschaftsberufe</td>\n",
       "      <td>16796.0</td>\n",
       "      <td>15214.0</td>\n",
       "      <td>1123.0</td>\n",
       "      <td>375.0</td>\n",
       "      <td>84.0</td>\n",
       "      <td>2749.0</td>\n",
       "      <td>4235.0</td>\n",
       "      <td>648.0</td>\n",
       "      <td>9164.0</td>\n",
       "    </tr>\n",
       "    <tr>\n",
       "      <th>2</th>\n",
       "      <td>Baden-Württemberg</td>\n",
       "      <td>111 Landwirtschaft</td>\n",
       "      <td>14797.0</td>\n",
       "      <td>14310.0</td>\n",
       "      <td>332.0</td>\n",
       "      <td>92.0</td>\n",
       "      <td>63.0</td>\n",
       "      <td>2289.0</td>\n",
       "      <td>3264.0</td>\n",
       "      <td>524.0</td>\n",
       "      <td>8720.0</td>\n",
       "    </tr>\n",
       "    <tr>\n",
       "      <th>3</th>\n",
       "      <td>Baden-Württemberg</td>\n",
       "      <td>112 Tierwirtschaft</td>\n",
       "      <td>439.0</td>\n",
       "      <td>351.0</td>\n",
       "      <td>62.0</td>\n",
       "      <td>23.0</td>\n",
       "      <td>3.0</td>\n",
       "      <td>123.0</td>\n",
       "      <td>181.0</td>\n",
       "      <td>20.0</td>\n",
       "      <td>115.0</td>\n",
       "    </tr>\n",
       "    <tr>\n",
       "      <th>4</th>\n",
       "      <td>Baden-Württemberg</td>\n",
       "      <td>113 Pferdewirtschaft</td>\n",
       "      <td>277.0</td>\n",
       "      <td>0.0</td>\n",
       "      <td>267.0</td>\n",
       "      <td>10.0</td>\n",
       "      <td>0.0</td>\n",
       "      <td>90.0</td>\n",
       "      <td>116.0</td>\n",
       "      <td>11.0</td>\n",
       "      <td>60.0</td>\n",
       "    </tr>\n",
       "  </tbody>\n",
       "</table>\n",
       "</div>"
      ],
      "text/plain": [
       "          Bundesland                             Berufsgruppe  Insgesamt  \\\n",
       "0  Baden-Württemberg                                Insgesamt   648869.0   \n",
       "1  Baden-Württemberg  11 Land-, Tier-, Forstwirtschaftsberufe    16796.0   \n",
       "2  Baden-Württemberg                       111 Landwirtschaft    14797.0   \n",
       "3  Baden-Württemberg                       112 Tierwirtschaft      439.0   \n",
       "4  Baden-Württemberg                     113 Pferdewirtschaft      277.0   \n",
       "\n",
       "     Helfer  Fachkraft  Spezialist   Experte  \\\n",
       "0  299575.0   268666.0     30364.0   28086.0   \n",
       "1   15214.0     1123.0       375.0      84.0   \n",
       "2   14310.0      332.0        92.0      63.0   \n",
       "3     351.0       62.0        23.0       3.0   \n",
       "4       0.0      267.0        10.0       0.0   \n",
       "\n",
       "   Ohne berufl. Ausbildungs- abschluss  mit anerkanntem Berufs- abschluss 1)  \\\n",
       "0                             166039.0                              276844.0   \n",
       "1                               2749.0                                4235.0   \n",
       "2                               2289.0                                3264.0   \n",
       "3                                123.0                                 181.0   \n",
       "4                                 90.0                                 116.0   \n",
       "\n",
       "   mit akademi-schem Berufs-abschluss 2)  Ausbildung unbekannt  \n",
       "0                                48826.0              157160.0  \n",
       "1                                  648.0                9164.0  \n",
       "2                                  524.0                8720.0  \n",
       "3                                   20.0                 115.0  \n",
       "4                                   11.0                  60.0  "
      ]
     },
     "execution_count": 24,
     "metadata": {},
     "output_type": "execute_result"
    }
   ],
   "source": [
    "# Ausgabe des finalen Dataframes\n",
    "df_all.head()"
   ]
  },
  {
   "cell_type": "markdown",
   "metadata": {},
   "source": [
    "##### Speicherung der Daten als Excel Datei"
   ]
  },
  {
   "cell_type": "code",
   "execution_count": 25,
   "metadata": {},
   "outputs": [],
   "source": [
    "# ALs Excel File speichern\n",
    "df_all.to_excel(\"aGB_Beschäftigte_nach_BL.xlsx\")  "
   ]
  },
  {
   "cell_type": "markdown",
   "metadata": {},
   "source": [
    "### 3. Laden und Zusammenführung der Daten - SVB"
   ]
  },
  {
   "cell_type": "code",
   "execution_count": 26,
   "metadata": {},
   "outputs": [],
   "source": [
    "# Lade Daten für jedes Bundesland \n",
    "list_of_dataframes = []\n",
    "for Bundesland in Bundesländer:\n",
    "    df = pd.read_excel(\"Rohdaten_Bundesagentur_für_Arbeit_Bundesländer/\" + Bundesland + \".xlsx\", sheet_name=\"SVB - Tabelle II\", header = 9, nrows=300)    \n",
    "    df = get_data_formatted(df)\n",
    "    df = clean_data(df)\n",
    "    df[\"Bundesland\"] = Bundesland\n",
    "    list_of_dataframes.append(df) "
   ]
  },
  {
   "cell_type": "code",
   "execution_count": 27,
   "metadata": {},
   "outputs": [],
   "source": [
    "# Zusammenführen aller individuellen Dataframes in einen ganzen\n",
    "df_all = pd.concat(list_of_dataframes)"
   ]
  },
  {
   "cell_type": "code",
   "execution_count": 28,
   "metadata": {},
   "outputs": [
    {
     "name": "stdout",
     "output_type": "stream",
     "text": [
      "(178, 13)\n",
      "(178, 13)\n",
      "(178, 13)\n",
      "(178, 13)\n",
      "(178, 13)\n",
      "(178, 13)\n",
      "(178, 13)\n",
      "(178, 13)\n",
      "(178, 13)\n",
      "(178, 13)\n",
      "(178, 13)\n",
      "(178, 13)\n",
      "(178, 13)\n",
      "(178, 13)\n",
      "(178, 13)\n",
      "(178, 13)\n"
     ]
    }
   ],
   "source": [
    "# Überprüfung des Formats\n",
    "for element in list_of_dataframes:\n",
    "    print(element.shape)"
   ]
  },
  {
   "cell_type": "code",
   "execution_count": 29,
   "metadata": {},
   "outputs": [],
   "source": [
    "# Sortierung der Spalten\n",
    "cols = list(df_all.columns)\n",
    "cols = [cols[-1]] + cols[:-1]\n",
    "df_all = df_all[cols]"
   ]
  },
  {
   "cell_type": "code",
   "execution_count": 30,
   "metadata": {},
   "outputs": [
    {
     "data": {
      "text/html": [
       "<div>\n",
       "<style scoped>\n",
       "    .dataframe tbody tr th:only-of-type {\n",
       "        vertical-align: middle;\n",
       "    }\n",
       "\n",
       "    .dataframe tbody tr th {\n",
       "        vertical-align: top;\n",
       "    }\n",
       "\n",
       "    .dataframe thead th {\n",
       "        text-align: right;\n",
       "    }\n",
       "</style>\n",
       "<table border=\"1\" class=\"dataframe\">\n",
       "  <thead>\n",
       "    <tr style=\"text-align: right;\">\n",
       "      <th></th>\n",
       "      <th>Bundesland</th>\n",
       "      <th>Berufsgruppe</th>\n",
       "      <th>Insgesamt</th>\n",
       "      <th>in Vollzeit</th>\n",
       "      <th>in Teilzeit</th>\n",
       "      <th>Helfer</th>\n",
       "      <th>Fachkraft</th>\n",
       "      <th>Spezialist</th>\n",
       "      <th>Experte</th>\n",
       "      <th>Ohne berufl. Ausbildungs- abschluss</th>\n",
       "      <th>mit anerkanntem Berufs- abschluss 1)</th>\n",
       "      <th>mit akademi-schem Berufs-abschluss 2)</th>\n",
       "      <th>Ausbildung unbekannt</th>\n",
       "    </tr>\n",
       "  </thead>\n",
       "  <tbody>\n",
       "    <tr>\n",
       "      <th>0</th>\n",
       "      <td>Baden-Württemberg</td>\n",
       "      <td>Insgesamt</td>\n",
       "      <td>4778076.0</td>\n",
       "      <td>3516861.0</td>\n",
       "      <td>1261215.0</td>\n",
       "      <td>723606.0</td>\n",
       "      <td>2694078.0</td>\n",
       "      <td>678284.0</td>\n",
       "      <td>662024.0</td>\n",
       "      <td>684045.0</td>\n",
       "      <td>2854921.0</td>\n",
       "      <td>894569.0</td>\n",
       "      <td>344541.0</td>\n",
       "    </tr>\n",
       "    <tr>\n",
       "      <th>1</th>\n",
       "      <td>Baden-Württemberg</td>\n",
       "      <td>11 Land-, Tier-, Forstwirtschaftsberufe</td>\n",
       "      <td>24033.0</td>\n",
       "      <td>19022.0</td>\n",
       "      <td>5011.0</td>\n",
       "      <td>12179.0</td>\n",
       "      <td>8183.0</td>\n",
       "      <td>1916.0</td>\n",
       "      <td>1755.0</td>\n",
       "      <td>3859.0</td>\n",
       "      <td>10435.0</td>\n",
       "      <td>2762.0</td>\n",
       "      <td>6977.0</td>\n",
       "    </tr>\n",
       "    <tr>\n",
       "      <th>2</th>\n",
       "      <td>Baden-Württemberg</td>\n",
       "      <td>111 Landwirtschaft</td>\n",
       "      <td>14396.0</td>\n",
       "      <td>11434.0</td>\n",
       "      <td>2962.0</td>\n",
       "      <td>10056.0</td>\n",
       "      <td>2447.0</td>\n",
       "      <td>667.0</td>\n",
       "      <td>1226.0</td>\n",
       "      <td>2182.0</td>\n",
       "      <td>4731.0</td>\n",
       "      <td>1685.0</td>\n",
       "      <td>5798.0</td>\n",
       "    </tr>\n",
       "    <tr>\n",
       "      <th>3</th>\n",
       "      <td>Baden-Württemberg</td>\n",
       "      <td>112 Tierwirtschaft</td>\n",
       "      <td>864.0</td>\n",
       "      <td>530.0</td>\n",
       "      <td>334.0</td>\n",
       "      <td>466.0</td>\n",
       "      <td>161.0</td>\n",
       "      <td>224.0</td>\n",
       "      <td>13.0</td>\n",
       "      <td>145.0</td>\n",
       "      <td>419.0</td>\n",
       "      <td>118.0</td>\n",
       "      <td>182.0</td>\n",
       "    </tr>\n",
       "    <tr>\n",
       "      <th>4</th>\n",
       "      <td>Baden-Württemberg</td>\n",
       "      <td>113 Pferdewirtschaft</td>\n",
       "      <td>1066.0</td>\n",
       "      <td>733.0</td>\n",
       "      <td>333.0</td>\n",
       "      <td>0.0</td>\n",
       "      <td>1003.0</td>\n",
       "      <td>60.0</td>\n",
       "      <td>3.0</td>\n",
       "      <td>271.0</td>\n",
       "      <td>558.0</td>\n",
       "      <td>63.0</td>\n",
       "      <td>174.0</td>\n",
       "    </tr>\n",
       "  </tbody>\n",
       "</table>\n",
       "</div>"
      ],
      "text/plain": [
       "          Bundesland                             Berufsgruppe  Insgesamt  \\\n",
       "0  Baden-Württemberg                                Insgesamt  4778076.0   \n",
       "1  Baden-Württemberg  11 Land-, Tier-, Forstwirtschaftsberufe    24033.0   \n",
       "2  Baden-Württemberg                       111 Landwirtschaft    14396.0   \n",
       "3  Baden-Württemberg                       112 Tierwirtschaft      864.0   \n",
       "4  Baden-Württemberg                     113 Pferdewirtschaft     1066.0   \n",
       "\n",
       "   in Vollzeit  in Teilzeit    Helfer  Fachkraft  Spezialist   Experte  \\\n",
       "0    3516861.0    1261215.0  723606.0  2694078.0    678284.0  662024.0   \n",
       "1      19022.0       5011.0   12179.0     8183.0      1916.0    1755.0   \n",
       "2      11434.0       2962.0   10056.0     2447.0       667.0    1226.0   \n",
       "3        530.0        334.0     466.0      161.0       224.0      13.0   \n",
       "4        733.0        333.0       0.0     1003.0        60.0       3.0   \n",
       "\n",
       "   Ohne berufl. Ausbildungs- abschluss  mit anerkanntem Berufs- abschluss 1)  \\\n",
       "0                             684045.0                             2854921.0   \n",
       "1                               3859.0                               10435.0   \n",
       "2                               2182.0                                4731.0   \n",
       "3                                145.0                                 419.0   \n",
       "4                                271.0                                 558.0   \n",
       "\n",
       "   mit akademi-schem Berufs-abschluss 2)  Ausbildung unbekannt  \n",
       "0                               894569.0              344541.0  \n",
       "1                                 2762.0                6977.0  \n",
       "2                                 1685.0                5798.0  \n",
       "3                                  118.0                 182.0  \n",
       "4                                   63.0                 174.0  "
      ]
     },
     "execution_count": 30,
     "metadata": {},
     "output_type": "execute_result"
    }
   ],
   "source": [
    "# Ausgabe des finalen Dataframes\n",
    "df_all.head()"
   ]
  },
  {
   "cell_type": "markdown",
   "metadata": {},
   "source": [
    "##### Speicherung der Daten als Excel Datei"
   ]
  },
  {
   "cell_type": "code",
   "execution_count": 31,
   "metadata": {},
   "outputs": [],
   "source": [
    "# ALs Excel File speichern\n",
    "df_all.to_excel(\"SVB_Beschäftigte_nach_BL.xlsx\") "
   ]
  },
  {
   "cell_type": "code",
   "execution_count": 32,
   "metadata": {},
   "outputs": [],
   "source": [
    "# Anmerkung: Beim Öffnen der Excel Datei in Excel, entsprechen leere Zellen Missings (NaN) im Dataframe"
   ]
  }
 ],
 "metadata": {
  "kernelspec": {
   "display_name": "Python 3",
   "language": "python",
   "name": "python3"
  },
  "language_info": {
   "codemirror_mode": {
    "name": "ipython",
    "version": 3
   },
   "file_extension": ".py",
   "mimetype": "text/x-python",
   "name": "python",
   "nbconvert_exporter": "python",
   "pygments_lexer": "ipython3",
   "version": "3.8.5"
  }
 },
 "nbformat": 4,
 "nbformat_minor": 4
}
